{
 "cells": [
  {
   "metadata": {},
   "cell_type": "code",
   "source": [
    "import sys\n",
    "from pathlib import Path\n",
    "\n",
    "current_dir = Path.cwd()\n",
    "parent_dir = current_dir.parent\n",
    "print(f\"root_dir: {parent_dir}\")\n",
    "sys.path.append(str(parent_dir))"
   ],
   "outputs": [],
   "execution_count": null
  },
  {
   "cell_type": "code",
   "metadata": {
    "application/vnd.databricks.v1+cell": {
     "cellMetadata": {
      "byteLimit": 2048000,
      "rowLimit": 10000
     },
     "inputWidgets": {},
     "nuid": "46fbd172-546f-406e-972f-1cea91cdfca3",
     "showTitle": false,
     "tableResultSettingsMap": {},
     "title": ""
    }
   },
   "source": [
    "from wfx.processors.airflow import AirflowProcessor\n",
    "from wfx.processors.gsheet import GsheetProcessor\n",
    "import json"
   ],
   "outputs": [],
   "execution_count": null
  },
  {
   "cell_type": "code",
   "metadata": {
    "application/vnd.databricks.v1+cell": {
     "cellMetadata": {
      "byteLimit": 2048000,
      "rowLimit": 10000
     },
     "inputWidgets": {},
     "nuid": "8ac45af5-c5f5-49d0-bae0-483cc0af8636",
     "showTitle": false,
     "tableResultSettingsMap": {},
     "title": ""
    }
   },
   "source": [
    "dag_name = \"data_processing\"\n",
    "gsheet_path = parent_dir / \"inputs/mappings/\" / dag_name / \"task_list_all.csv\"\n",
    "input_dag_path = parent_dir / \"inputs/airflow_dags\"\n",
    "output_workflow_path = parent_dir / \"resources/jobs\"\n",
    "output_workflow_name = \"sample_databricks_etl\"\n",
    "\n",
    "print(f\"dag_name: {dag_name}\")\n",
    "print(f\"gsheet_path: {gsheet_path}\")\n",
    "print(f\"input_dag_path: {input_dag_path}\")\n",
    "print(f\"output_workflow_path: {output_workflow_path}\")\n",
    "print(f\"output_workflow_name: {output_workflow_name}\")"
   ],
   "outputs": [],
   "execution_count": null
  },
  {
   "cell_type": "code",
   "metadata": {
    "application/vnd.databricks.v1+cell": {
     "cellMetadata": {
      "byteLimit": 2048000,
      "rowLimit": 10000
     },
     "inputWidgets": {},
     "nuid": "e82bfc28-10f0-41fa-bcd8-03ca7942a754",
     "showTitle": false,
     "tableResultSettingsMap": {},
     "title": ""
    }
   },
   "source": [
    "gsheet_processor = GsheetProcessor(dag_name, str(gsheet_path))\n",
    "airflow_processor = AirflowProcessor(dag_name, gsheet_processor, str(input_dag_path))\n",
    "target_tasks = airflow_processor.build_save_target_tasks()"
   ],
   "outputs": [],
   "execution_count": null
  },
  {
   "metadata": {},
   "cell_type": "code",
   "source": "gsheet_processor.get_old_task_name_list()",
   "outputs": [],
   "execution_count": null
  },
  {
   "metadata": {},
   "cell_type": "code",
   "source": "print(json.dumps(target_tasks, indent=2))",
   "outputs": [],
   "execution_count": null
  },
  {
   "cell_type": "code",
   "metadata": {
    "application/vnd.databricks.v1+cell": {
     "cellMetadata": {
      "byteLimit": 2048000,
      "rowLimit": 10000
     },
     "inputWidgets": {},
     "nuid": "e0e29a90-50e8-4653-8d03-99f07e77dae4",
     "showTitle": false,
     "tableResultSettingsMap": {},
     "title": ""
    }
   },
   "source": [
    "target_tasks = airflow_processor.build_target_tasks()\n",
    "target_tasks"
   ],
   "outputs": [],
   "execution_count": null
  },
  {
   "metadata": {},
   "cell_type": "code",
   "source": "type(target_tasks)",
   "outputs": [],
   "execution_count": null
  },
  {
   "metadata": {},
   "cell_type": "code",
   "source": [
    "from wfx.core.converter import DBXDabConverter\n",
    "from pathlib import Path\n",
    "\n",
    "PROJECT_ROOT = Path.cwd().parent\n",
    "print(f\"PROJECT_ROOT: {PROJECT_ROOT}\")\n",
    "\n",
    "target_workflow_name = \"sample_databricks_etl\"\n",
    "output_workflow_path = PROJECT_ROOT / \"resources/jobs\"\n",
    "\n",
    "converter = DBXDabConverter()\n",
    "\n",
    "dabs_job = converter.convert_job_config(target_tasks, target_workflow_name)\n",
    "write_path = str(output_workflow_path / target_workflow_name) + \".yml\"\n",
    "\n",
    "converter.save_dabs_yaml(dabs_job, str(write_path))\n",
    "print(f\"Successfully created DABs job configuration: {write_path}\")"
   ],
   "outputs": [],
   "execution_count": null
  },
  {
   "metadata": {},
   "cell_type": "code",
   "source": "",
   "outputs": [],
   "execution_count": null
  }
 ],
 "metadata": {
  "application/vnd.databricks.v1+notebook": {
   "computePreferences": null,
   "dashboards": [],
   "environmentMetadata": null,
   "language": "python",
   "notebookMetadata": {
    "mostRecentlyExecutedCommandWithImplicitDF": {
     "commandId": -1,
     "dataframes": [
      "_sqldf"
     ]
    },
    "pythonIndentUnit": 2
   },
   "notebookName": "convert_create_workflow_notebook",
   "widgets": {}
  },
  "language_info": {
   "name": "python"
  },
  "kernelspec": {
   "name": "python3",
   "language": "python",
   "display_name": "Python 3 (ipykernel)"
  }
 },
 "nbformat": 4,
 "nbformat_minor": 0
}
