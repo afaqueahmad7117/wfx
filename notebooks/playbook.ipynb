{
 "cells": [
  {
   "metadata": {
    "ExecuteTime": {
     "end_time": "2025-03-05T10:01:23.856470Z",
     "start_time": "2025-03-05T10:01:23.852677Z"
    }
   },
   "cell_type": "code",
   "source": [
    "import sys\n",
    "from pathlib import Path\n",
    "\n",
    "current_dir = Path.cwd()\n",
    "parent_dir = current_dir.parent\n",
    "print(f\"root_dir: {parent_dir}\")\n",
    "sys.path.append(str(parent_dir))"
   ],
   "outputs": [
    {
     "name": "stdout",
     "output_type": "stream",
     "text": [
      "root_dir: /Users/afaque.ahmad/Documents/Projects/Masan/Repos/wfx\n"
     ]
    }
   ],
   "execution_count": 1
  },
  {
   "cell_type": "code",
   "metadata": {
    "application/vnd.databricks.v1+cell": {
     "cellMetadata": {
      "byteLimit": 2048000,
      "rowLimit": 10000
     },
     "inputWidgets": {},
     "nuid": "46fbd172-546f-406e-972f-1cea91cdfca3",
     "showTitle": false,
     "tableResultSettingsMap": {},
     "title": ""
    },
    "ExecuteTime": {
     "end_time": "2025-03-05T10:01:24.808039Z",
     "start_time": "2025-03-05T10:01:24.566119Z"
    }
   },
   "source": [
    "from src.wfx.processors.airflow import AirflowProcessor\n",
    "from src.wfx.processors.gsheet import GsheetProcessor\n",
    "import json"
   ],
   "outputs": [],
   "execution_count": 2
  },
  {
   "cell_type": "code",
   "metadata": {
    "application/vnd.databricks.v1+cell": {
     "cellMetadata": {
      "byteLimit": 2048000,
      "rowLimit": 10000
     },
     "inputWidgets": {},
     "nuid": "8ac45af5-c5f5-49d0-bae0-483cc0af8636",
     "showTitle": false,
     "tableResultSettingsMap": {},
     "title": ""
    },
    "ExecuteTime": {
     "end_time": "2025-03-05T10:01:25.336396Z",
     "start_time": "2025-03-05T10:01:25.330675Z"
    }
   },
   "source": [
    "dag_name = \"data_processing\"\n",
    "gsheet_path = parent_dir / \"inputs/mappings/\" / dag_name / \"task_list_all.csv\"\n",
    "input_dag_path = parent_dir / \"inputs/airflow_dags\"\n",
    "output_workflow_path = parent_dir / \"resources/jobs\"\n",
    "output_workflow_name = \"sample_databricks_etl\"\n",
    "\n",
    "print(f\"dag_name: {dag_name}\")\n",
    "print(f\"gsheet_path: {gsheet_path}\")\n",
    "print(f\"input_dag_path: {input_dag_path}\")\n",
    "print(f\"output_workflow_path: {output_workflow_path}\")\n",
    "print(f\"output_workflow_name: {output_workflow_name}\")"
   ],
   "outputs": [
    {
     "name": "stdout",
     "output_type": "stream",
     "text": [
      "dag_name: data_processing\n",
      "gsheet_path: /Users/afaque.ahmad/Documents/Projects/Masan/Repos/wfx/inputs/mappings/data_processing/task_list_all.csv\n",
      "input_dag_path: /Users/afaque.ahmad/Documents/Projects/Masan/Repos/wfx/inputs/airflow_dags\n",
      "output_workflow_path: /Users/afaque.ahmad/Documents/Projects/Masan/Repos/wfx/resources/jobs\n",
      "output_workflow_name: sample_databricks_etl\n"
     ]
    }
   ],
   "execution_count": 3
  },
  {
   "cell_type": "code",
   "metadata": {
    "application/vnd.databricks.v1+cell": {
     "cellMetadata": {
      "byteLimit": 2048000,
      "rowLimit": 10000
     },
     "inputWidgets": {},
     "nuid": "e82bfc28-10f0-41fa-bcd8-03ca7942a754",
     "showTitle": false,
     "tableResultSettingsMap": {},
     "title": ""
    },
    "ExecuteTime": {
     "end_time": "2025-03-05T10:06:56.441825Z",
     "start_time": "2025-03-05T10:06:56.432013Z"
    }
   },
   "source": [
    "gsheet_processor = GsheetProcessor(dag_name, str(gsheet_path))\n",
    "airflow_processor = AirflowProcessor(dag_name, gsheet_processor, str(input_dag_path))\n",
    "target_tasks = airflow_processor.build_save_target_tasks()"
   ],
   "outputs": [
    {
     "name": "stdout",
     "output_type": "stream",
     "text": [
      "Info: No params found for task_id data_validation_task of operator validate_input_data\n",
      "Info: No params found for task_id data_processing_task of operator process_data\n",
      "Info: No params found for task_id data_export_task of operator export_processed_data\n",
      "Info: No params found for task_id report_generation_task of operator generate_report\n",
      "Info: No params found for task_id downstream_trigger_task of operator trigger_downstream_dag\n",
      "Writing /Users/afaque.ahmad/Documents/Projects/Masan/Repos/wfx/inputs/dbx_workflows/data_processing_tasks_config.json\n"
     ]
    }
   ],
   "execution_count": 6
  },
  {
   "metadata": {
    "ExecuteTime": {
     "end_time": "2025-03-05T10:08:01.925386Z",
     "start_time": "2025-03-05T10:08:01.916365Z"
    }
   },
   "cell_type": "code",
   "source": "gsheet_processor.get_old_task_name_list()",
   "outputs": [
    {
     "data": {
      "text/plain": [
       "['validate_input_data',\n",
       " 'process_data',\n",
       " 'export_processed_data',\n",
       " 'generate_report',\n",
       " 'trigger_downstream_dag']"
      ]
     },
     "execution_count": 7,
     "metadata": {},
     "output_type": "execute_result"
    }
   ],
   "execution_count": 7
  },
  {
   "metadata": {
    "ExecuteTime": {
     "end_time": "2025-03-05T10:08:04.327440Z",
     "start_time": "2025-03-05T10:08:04.322956Z"
    }
   },
   "cell_type": "code",
   "source": "print(json.dumps(target_tasks, indent=2))",
   "outputs": [
    {
     "name": "stdout",
     "output_type": "stream",
     "text": [
      "{\n",
      "  \"tasks\": [\n",
      "    {\n",
      "      \"task_key\": \"data_validation_task\",\n",
      "      \"depends_on\": [],\n",
      "      \"notebook_task\": {\n",
      "        \"notebook_path\": \"/repos/data_team/etl/validation\",\n",
      "        \"source\": \"WORKSPACE\",\n",
      "        \"base_parameters\": {}\n",
      "      }\n",
      "    },\n",
      "    {\n",
      "      \"task_key\": \"data_processing_task\",\n",
      "      \"depends_on\": [\n",
      "        {\n",
      "          \"task_key\": \"data_validation_task\"\n",
      "        }\n",
      "      ],\n",
      "      \"notebook_task\": {\n",
      "        \"notebook_path\": \"/repos/data_team/etl/processing\",\n",
      "        \"source\": \"WORKSPACE\",\n",
      "        \"base_parameters\": {}\n",
      "      }\n",
      "    },\n",
      "    {\n",
      "      \"task_key\": \"data_export_task\",\n",
      "      \"depends_on\": [\n",
      "        {\n",
      "          \"task_key\": \"data_processing_task\"\n",
      "        }\n",
      "      ],\n",
      "      \"notebook_task\": {\n",
      "        \"notebook_path\": \"/repos/data_team/etl/export\",\n",
      "        \"source\": \"WORKSPACE\",\n",
      "        \"base_parameters\": {}\n",
      "      }\n",
      "    },\n",
      "    {\n",
      "      \"task_key\": \"report_generation_task\",\n",
      "      \"depends_on\": [\n",
      "        {\n",
      "          \"task_key\": \"data_processing_task\"\n",
      "        }\n",
      "      ],\n",
      "      \"notebook_task\": {\n",
      "        \"notebook_path\": \"/repos/data_team/etl/reporting\",\n",
      "        \"source\": \"WORKSPACE\",\n",
      "        \"base_parameters\": {}\n",
      "      }\n",
      "    },\n",
      "    {\n",
      "      \"task_key\": \"downstream_trigger_task\",\n",
      "      \"depends_on\": [\n",
      "        {\n",
      "          \"task_key\": \"data_export_task\"\n",
      "        },\n",
      "        {\n",
      "          \"task_key\": \"report_generation_task\"\n",
      "        }\n",
      "      ],\n",
      "      \"notebook_task\": {\n",
      "        \"notebook_path\": \"/repos/data_team/etl/trigger\",\n",
      "        \"source\": \"WORKSPACE\",\n",
      "        \"base_parameters\": {}\n",
      "      }\n",
      "    }\n",
      "  ]\n",
      "}\n"
     ]
    }
   ],
   "execution_count": 8
  },
  {
   "cell_type": "code",
   "metadata": {
    "application/vnd.databricks.v1+cell": {
     "cellMetadata": {
      "byteLimit": 2048000,
      "rowLimit": 10000
     },
     "inputWidgets": {},
     "nuid": "e0e29a90-50e8-4653-8d03-99f07e77dae4",
     "showTitle": false,
     "tableResultSettingsMap": {},
     "title": ""
    },
    "ExecuteTime": {
     "end_time": "2025-03-05T10:08:11.142471Z",
     "start_time": "2025-03-05T10:08:11.137005Z"
    }
   },
   "source": [
    "target_tasks = airflow_processor.build_target_tasks()\n",
    "target_tasks"
   ],
   "outputs": [
    {
     "name": "stdout",
     "output_type": "stream",
     "text": [
      "Info: No params found for task_id data_validation_task of operator validate_input_data\n",
      "Info: No params found for task_id data_processing_task of operator process_data\n",
      "Info: No params found for task_id data_export_task of operator export_processed_data\n",
      "Info: No params found for task_id report_generation_task of operator generate_report\n",
      "Info: No params found for task_id downstream_trigger_task of operator trigger_downstream_dag\n"
     ]
    },
    {
     "data": {
      "text/plain": [
       "{'tasks': [{'task_key': 'data_validation_task',\n",
       "   'depends_on': [],\n",
       "   'notebook_task': {'notebook_path': '/repos/data_team/etl/validation',\n",
       "    'source': 'WORKSPACE',\n",
       "    'base_parameters': {}}},\n",
       "  {'task_key': 'data_processing_task',\n",
       "   'depends_on': [{'task_key': 'data_validation_task'}],\n",
       "   'notebook_task': {'notebook_path': '/repos/data_team/etl/processing',\n",
       "    'source': 'WORKSPACE',\n",
       "    'base_parameters': {}}},\n",
       "  {'task_key': 'data_export_task',\n",
       "   'depends_on': [{'task_key': 'data_processing_task'}],\n",
       "   'notebook_task': {'notebook_path': '/repos/data_team/etl/export',\n",
       "    'source': 'WORKSPACE',\n",
       "    'base_parameters': {}}},\n",
       "  {'task_key': 'report_generation_task',\n",
       "   'depends_on': [{'task_key': 'data_processing_task'}],\n",
       "   'notebook_task': {'notebook_path': '/repos/data_team/etl/reporting',\n",
       "    'source': 'WORKSPACE',\n",
       "    'base_parameters': {}}},\n",
       "  {'task_key': 'downstream_trigger_task',\n",
       "   'depends_on': [{'task_key': 'data_export_task'},\n",
       "    {'task_key': 'report_generation_task'}],\n",
       "   'notebook_task': {'notebook_path': '/repos/data_team/etl/trigger',\n",
       "    'source': 'WORKSPACE',\n",
       "    'base_parameters': {}}}]}"
      ]
     },
     "execution_count": 9,
     "metadata": {},
     "output_type": "execute_result"
    }
   ],
   "execution_count": 9
  },
  {
   "metadata": {},
   "cell_type": "code",
   "source": "type(target_tasks)",
   "outputs": [],
   "execution_count": null
  },
  {
   "metadata": {
    "ExecuteTime": {
     "end_time": "2025-03-05T10:15:33.550485Z",
     "start_time": "2025-03-05T10:15:33.540402Z"
    }
   },
   "cell_type": "code",
   "source": [
    "from src.wfx.core.converter import DBXDabConverter\n",
    "from pathlib import Path\n",
    "\n",
    "PROJECT_ROOT = Path.cwd().parent\n",
    "print(f\"PROJECT_ROOT: {PROJECT_ROOT}\")\n",
    "\n",
    "target_workflow_name = \"sample_databricks_etl\"\n",
    "output_workflow_path = PROJECT_ROOT / \"resources/jobs\"\n",
    "\n",
    "converter = DBXDabConverter()\n",
    "\n",
    "dabs_job = converter.convert_job_config(target_tasks, target_workflow_name)\n",
    "write_path = str(output_workflow_path / target_workflow_name) + \".yml\"\n",
    "\n",
    "converter.save_dabs_yaml(dabs_job, str(write_path))\n",
    "print(f\"Successfully created DABs job configuration: {write_path}\")"
   ],
   "outputs": [
    {
     "name": "stdout",
     "output_type": "stream",
     "text": [
      "PROJECT_ROOT: /Users/afaque.ahmad/Documents/Projects/Masan/Repos/wfx\n",
      "Successfully created DABs job configuration: /Users/afaque.ahmad/Documents/Projects/Masan/Repos/wfx/resources/jobs/sample_databricks_etl.yml\n"
     ]
    }
   ],
   "execution_count": 13
  },
  {
   "metadata": {},
   "cell_type": "code",
   "outputs": [],
   "execution_count": null,
   "source": ""
  }
 ],
 "metadata": {
  "application/vnd.databricks.v1+notebook": {
   "computePreferences": null,
   "dashboards": [],
   "environmentMetadata": null,
   "language": "python",
   "notebookMetadata": {
    "mostRecentlyExecutedCommandWithImplicitDF": {
     "commandId": -1,
     "dataframes": [
      "_sqldf"
     ]
    },
    "pythonIndentUnit": 2
   },
   "notebookName": "convert_create_workflow_notebook",
   "widgets": {}
  },
  "language_info": {
   "name": "python"
  },
  "kernelspec": {
   "name": "python3",
   "language": "python",
   "display_name": "Python 3 (ipykernel)"
  }
 },
 "nbformat": 4,
 "nbformat_minor": 0
}
